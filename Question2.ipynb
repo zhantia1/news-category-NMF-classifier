{
 "cells": [
  {
   "cell_type": "code",
   "execution_count": 2,
   "id": "e92cbc0c-ce18-4b23-8718-83ee00328a42",
   "metadata": {},
   "outputs": [],
   "source": [
    "from sklearn.decomposition import NMF\n",
    "from sklearn.metrics import mean_squared_error\n",
    "import pandas as pd\n",
    "import numpy as np\n",
    "\n",
    "def preprocess_data(train, test):\n",
    "    train_arr = train.to_numpy()\n",
    "    test_arr = test.to_numpy()\n",
    "    return train_arr, test_arr\n",
    "    \n",
    "def train_nmf_model(train_arr):\n",
    "    nmf_model = NMF(n_components=15, init='random', random_state=42, max_iter=500)\n",
    "    W = nmf_model.fit_transform(train_arr)\n",
    "    H = nmf_model.components_\n",
    "    return nmf_model, W, H\n",
    "\n",
    "def predict_ratings(nmf_model, W, H, test_arr):\n",
    "    test_predicted_ratings = np.dot(W, H)[:test_arr.shape[0], :]\n",
    "    return test_predicted_ratings\n",
    "\n",
    "def evaluate_model(test_arr, test_predicted_ratings):\n",
    "    test_mask = (test_arr > 0)\n",
    "    rmse = np.sqrt(mean_squared_error(test_arr[test_mask], test_predicted_ratings[test_mask]))\n",
    "    print(\"RMSE:\", rmse)\n"
   ]
  },
  {
   "cell_type": "code",
   "execution_count": 4,
   "id": "5b35302b-33e6-4ea0-b00a-1f8747ec0c85",
   "metadata": {},
   "outputs": [
    {
     "name": "stdout",
     "output_type": "stream",
     "text": [
      "RMSE: 1672.7374298158854\n"
     ]
    }
   ],
   "source": [
    "users = pd.read_csv('data/users.csv')\n",
    "movies = pd.read_csv('data/movies.csv')\n",
    "train = pd.read_csv('data/train.csv')\n",
    "test = pd.read_csv('data/test.csv')\n",
    "\n",
    "train_arr, test_arr = preprocess_data(train, test)\n",
    "nmf_model, W, H = train_nmf_model(train_arr)\n",
    "test_predicted_ratings = predict_ratings(nmf_model, W, H, test_arr)\n",
    "evaluate_model(test_arr, test_predicted_ratings)"
   ]
  },
  {
   "cell_type": "markdown",
   "id": "e69ec99d-90b6-4960-8ee7-567d96c8dc73",
   "metadata": {},
   "source": [
    "We use sckit's NMF library with 15 components to recommend movies. The resulting RMSE is 1672 which is extremely high meaning we can probalby improve this model.\n",
    "\n",
    "This is probably because sckit's NMF library has several limitations like how it treats missing data as observed rather than missing. This leads to suboptimal results in some cases. A potential solution for this would be to refine the NMF algorithm to handle this or to consider alternative libraries which are able to handle this.\n",
    "\n",
    "Another issue is that scikit's NMF lacks regularization which increases its susceptibility to overfitting. This can be addressed by implementing a regularized versions of NMF or using regularization matrix factorization techniques.\n",
    "\n",
    "scikit's NMF also does not model biases in user/item ratings explicitly. This can be solved by either refining the NMF to incorporate bias terms or by using alternative factorization models to handle the bias.\n",
    "\n",
    "Finally, scikit's NMF faces limitations for recommender systems compared to similarity-based methods. Solving this will probably involve alternative libraries, regularization techniques, and explicit modeling of biases."
   ]
  }
 ],
 "metadata": {
  "kernelspec": {
   "display_name": "Python 3.9.2",
   "language": "python",
   "name": "python3.9"
  },
  "language_info": {
   "codemirror_mode": {
    "name": "ipython",
    "version": 3
   },
   "file_extension": ".py",
   "mimetype": "text/x-python",
   "name": "python",
   "nbconvert_exporter": "python",
   "pygments_lexer": "ipython3",
   "version": "3.9.19"
  }
 },
 "nbformat": 4,
 "nbformat_minor": 5
}
